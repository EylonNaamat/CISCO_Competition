{
 "cells": [
  {
   "cell_type": "code",
   "execution_count": 1,
   "id": "2f3ad97a",
   "metadata": {},
   "outputs": [],
   "source": [
    "# Imports, settings and first dataset view\n",
    "import pandas as pd\n",
    "import seaborn as sns\n",
    "import numpy as np\n",
    "import json"
   ]
  },
  {
   "cell_type": "code",
   "execution_count": 2,
   "id": "2b7d43ba",
   "metadata": {},
   "outputs": [],
   "source": [
    "from sklearn.feature_extraction.text import CountVectorizer, HashingVectorizer\n",
    "from sklearn.preprocessing import LabelEncoder\n",
    "from sklearn.model_selection import train_test_split\n",
    "from sklearn.ensemble import RandomForestClassifier\n",
    "from sklearn.metrics import confusion_matrix, classification_report\n",
    "from collections import Counter"
   ]
  },
  {
   "cell_type": "code",
   "execution_count": 3,
   "id": "9834449d",
   "metadata": {},
   "outputs": [],
   "source": [
    "pd.set_option('display.max_columns', None)"
   ]
  },
  {
   "cell_type": "code",
   "execution_count": 4,
   "id": "45f56929",
   "metadata": {},
   "outputs": [],
   "source": [
    "dataset_number = 4 #thedataset\n",
    "test_type = 'label' #label ar attack_type"
   ]
  },
  {
   "cell_type": "code",
   "execution_count": 5,
   "id": "62f48649",
   "metadata": {},
   "outputs": [
    {
     "data": {
      "text/plain": [
       "(182767, 29)"
      ]
     },
     "execution_count": 5,
     "metadata": {},
     "output_type": "execute_result"
    }
   ],
   "source": [
    "#read file\n",
    "with open(f'./dataset_{str(dataset_number)}_train.json') as file:\n",
    "    raw_ds = json.load(file)\n",
    "df = pd.json_normalize(raw_ds, max_level=2)\n",
    "df.shape"
   ]
  },
  {
   "cell_type": "code",
   "execution_count": 6,
   "id": "fa1b943b",
   "metadata": {},
   "outputs": [],
   "source": [
    "#tab label and attack_type\n",
    "df['request.Attack_Tag'] = df['request.Attack_Tag'].fillna('Benign')\n",
    "df['attack_type'] = df['request.Attack_Tag']\n",
    "\n",
    "def categorize(row):  \n",
    "    if row['request.Attack_Tag'] == 'Benign':\n",
    "        return 'Benign'\n",
    "    return 'Malware'\n",
    "\n",
    "df['label'] = df.apply(lambda row: categorize(row), axis=1)"
   ]
  },
  {
   "cell_type": "code",
   "execution_count": 7,
   "id": "44fb7970",
   "metadata": {},
   "outputs": [],
   "source": [
    "#we check if one of the columns contian script\n",
    "def tag_contain_log4j(row):\n",
    "    check_colum = ['request.headers.Accept-Encoding',\n",
    " 'request.headers.Sec-Fetch-Dest',\n",
    " 'request.headers.Sec-Fetch-Site',\n",
    " 'request.headers.Set-Cookie']\n",
    "    for colum in check_colum:\n",
    "        if isinstance(row[colum], str):\n",
    "            if '${' in row[colum] and '}' in row[colum]:\n",
    "                return 1\n",
    "    return 0\n",
    "\n",
    "df['log4j_tag'] = df.apply(lambda row: tag_contain_log4j(row), axis=1)"
   ]
  },
  {
   "cell_type": "code",
   "execution_count": 8,
   "id": "c655c8ce",
   "metadata": {},
   "outputs": [],
   "source": [
    "#we chack that one of the columns not contain sql injection // request url\n",
    "def tag_contain_si(row):\n",
    "    if '%20' in row['request.url']:\n",
    "        return 1\n",
    "    return 0\n",
    "\n",
    "df['si_tag'] = df.apply(lambda row: tag_contain_si(row), axis=1)"
   ]
  },
  {
   "cell_type": "code",
   "execution_count": 9,
   "id": "52b19244",
   "metadata": {},
   "outputs": [],
   "source": [
    "#we chack that one of the columns not contain Directory Traversal // request url\n",
    "def tag_contain_dt(row):\n",
    "    check_colum = ['request.url','request.headers.Set-Cookie']\n",
    "    for colum in check_colum:\n",
    "        if isinstance(row[colum], str):\n",
    "            if '/..' in row['request.url']:\n",
    "                return 1\n",
    "    return 0\n",
    "\n",
    "df['dt_tag'] = df.apply(lambda row: tag_contain_dt(row), axis=1)"
   ]
  },
  {
   "cell_type": "code",
   "execution_count": 10,
   "id": "b4b336bc",
   "metadata": {},
   "outputs": [],
   "source": [
    "#we chack that one of the columns not contain xss // request url\n",
    "def tag_contain_xss(row):\n",
    "    for colum in df.columns:\n",
    "        if isinstance(row[colum], str):\n",
    "            if '/forum' in row[colum]:\n",
    "                return 1\n",
    "    return 0\n",
    "\n",
    "df['xss_tag'] = df.apply(lambda row: tag_contain_xss(row), axis=1)"
   ]
  },
  {
   "cell_type": "code",
   "execution_count": 11,
   "id": "90fea58e",
   "metadata": {},
   "outputs": [],
   "source": [
    "#drop attack tag\n",
    "df.drop('request.Attack_Tag', axis=1, inplace=True)"
   ]
  },
  {
   "cell_type": "code",
   "execution_count": 12,
   "id": "999eb7ca",
   "metadata": {},
   "outputs": [],
   "source": [
    "# fill none\n",
    "for column in df.columns[df.isna().any()].tolist():\n",
    "    # df.drop(column, axis=1, inplace=True)\n",
    "    df[column] = df[column].fillna('None')"
   ]
  },
  {
   "cell_type": "code",
   "execution_count": 13,
   "id": "4d1e2f47",
   "metadata": {},
   "outputs": [],
   "source": [
    "SIMPLE_HEADERS = ['request.headers.Accept-Encoding',\n",
    "                'request.method',\n",
    "                'request.headers.Accept-Language',\n",
    "                'request.headers.Sec-Fetch-Site',\n",
    "                'request.headers.Sec-Fetch-Mode',\n",
    "                'request.headers.Sec-Fetch-Dest',\n",
    "                'request.headers.Sec-Fetch-User',\n",
    "                'response.status_code']\n",
    "\n",
    "\n",
    "COMPLEX_HEADERS = ['request.headers.User-Agent',\n",
    "                    'request.headers.Set-Cookie',\n",
    "                    'request.url',\n",
    "                    'response.body',\n",
    "                    'response.headers.Location',\n",
    "                    'request.headers.Content-Length',\n",
    "                    'request.headers.Cookie',\n",
    "                   \"request.headers.Upgrade-Insecure-Requests\"  \n",
    "                    ]\n",
    "\n",
    "\n",
    "COLUMNS_TO_REMOVE = ['request.body',\n",
    "                    'request.headers.Date',\n",
    "                    'request.headers.Host',\n",
    "                    'request.headers.Accept',\n",
    "                    'request.headers.Connection',\n",
    "                    'request.headers.Sec-Fetch-User',\n",
    "                    'response.status',\n",
    "                    'response.headers.Content-Type',\n",
    "                    'response.headers.Set-Cookie',\n",
    "                    \"request.headers.Sec-Ch-Ua-Platform\",\n",
    "                      \"request.headers.Sec-Ch-Ua-Mobile\",\n",
    "                      \"request.headers.Cache-Control\"]\n"
   ]
  },
  {
   "cell_type": "code",
   "execution_count": 14,
   "id": "4091fe65",
   "metadata": {},
   "outputs": [
    {
     "name": "stdout",
     "output_type": "stream",
     "text": [
      "request.headers.User-Agent\n",
      "request.headers.Set-Cookie\n",
      "request.url\n",
      "response.body\n",
      "response.headers.Location\n",
      "request.headers.Content-Length\n",
      "request.headers.Cookie\n",
      "request.headers.Upgrade-Insecure-Requests\n"
     ]
    },
    {
     "data": {
      "text/html": [
       "<div>\n",
       "<style scoped>\n",
       "    .dataframe tbody tr th:only-of-type {\n",
       "        vertical-align: middle;\n",
       "    }\n",
       "\n",
       "    .dataframe tbody tr th {\n",
       "        vertical-align: top;\n",
       "    }\n",
       "\n",
       "    .dataframe thead th {\n",
       "        text-align: right;\n",
       "    }\n",
       "</style>\n",
       "<table border=\"1\" class=\"dataframe\">\n",
       "  <thead>\n",
       "    <tr style=\"text-align: right;\">\n",
       "      <th></th>\n",
       "      <th>request.headers.User-Agent</th>\n",
       "      <th>request.headers.Accept-Encoding</th>\n",
       "      <th>request.headers.Accept-Language</th>\n",
       "      <th>request.headers.Sec-Fetch-Site</th>\n",
       "      <th>request.headers.Sec-Fetch-Mode</th>\n",
       "      <th>request.headers.Sec-Fetch-Dest</th>\n",
       "      <th>request.headers.Set-Cookie</th>\n",
       "      <th>request.method</th>\n",
       "      <th>request.url</th>\n",
       "      <th>response.headers.Content-Length</th>\n",
       "      <th>response.status_code</th>\n",
       "      <th>response.body</th>\n",
       "      <th>response.headers.Location</th>\n",
       "      <th>request.headers.Cookie</th>\n",
       "      <th>request.headers.Content-Length</th>\n",
       "      <th>request.headers.Upgrade-Insecure-Requests</th>\n",
       "      <th>attack_type</th>\n",
       "      <th>label</th>\n",
       "      <th>log4j_tag</th>\n",
       "      <th>si_tag</th>\n",
       "      <th>dt_tag</th>\n",
       "      <th>xss_tag</th>\n",
       "    </tr>\n",
       "  </thead>\n",
       "  <tbody>\n",
       "    <tr>\n",
       "      <th>0</th>\n",
       "      <td>0.666667</td>\n",
       "      <td>1</td>\n",
       "      <td>2</td>\n",
       "      <td>1</td>\n",
       "      <td>1</td>\n",
       "      <td>1</td>\n",
       "      <td>-0.127000</td>\n",
       "      <td>0</td>\n",
       "      <td>0.000000</td>\n",
       "      <td>8</td>\n",
       "      <td>0</td>\n",
       "      <td>0.000000</td>\n",
       "      <td>-1.0</td>\n",
       "      <td>-1.0</td>\n",
       "      <td>-1.0</td>\n",
       "      <td>-1.0</td>\n",
       "      <td>Benign</td>\n",
       "      <td>Benign</td>\n",
       "      <td>0</td>\n",
       "      <td>0</td>\n",
       "      <td>0</td>\n",
       "      <td>0</td>\n",
       "    </tr>\n",
       "    <tr>\n",
       "      <th>1</th>\n",
       "      <td>0.774597</td>\n",
       "      <td>1</td>\n",
       "      <td>4</td>\n",
       "      <td>1</td>\n",
       "      <td>2</td>\n",
       "      <td>1</td>\n",
       "      <td>-0.833333</td>\n",
       "      <td>0</td>\n",
       "      <td>0.000000</td>\n",
       "      <td>31</td>\n",
       "      <td>5</td>\n",
       "      <td>0.000000</td>\n",
       "      <td>-1.0</td>\n",
       "      <td>-1.0</td>\n",
       "      <td>-1.0</td>\n",
       "      <td>-1.0</td>\n",
       "      <td>Benign</td>\n",
       "      <td>Benign</td>\n",
       "      <td>0</td>\n",
       "      <td>0</td>\n",
       "      <td>0</td>\n",
       "      <td>0</td>\n",
       "    </tr>\n",
       "    <tr>\n",
       "      <th>2</th>\n",
       "      <td>-0.755929</td>\n",
       "      <td>181</td>\n",
       "      <td>4</td>\n",
       "      <td>1</td>\n",
       "      <td>1</td>\n",
       "      <td>1</td>\n",
       "      <td>-0.755929</td>\n",
       "      <td>0</td>\n",
       "      <td>0.333333</td>\n",
       "      <td>26</td>\n",
       "      <td>4</td>\n",
       "      <td>-0.577350</td>\n",
       "      <td>-1.0</td>\n",
       "      <td>-1.0</td>\n",
       "      <td>-1.0</td>\n",
       "      <td>-1.0</td>\n",
       "      <td>LOG4J</td>\n",
       "      <td>Malware</td>\n",
       "      <td>1</td>\n",
       "      <td>0</td>\n",
       "      <td>0</td>\n",
       "      <td>0</td>\n",
       "    </tr>\n",
       "    <tr>\n",
       "      <th>3</th>\n",
       "      <td>0.000000</td>\n",
       "      <td>637</td>\n",
       "      <td>4</td>\n",
       "      <td>1</td>\n",
       "      <td>2</td>\n",
       "      <td>1</td>\n",
       "      <td>-0.766965</td>\n",
       "      <td>0</td>\n",
       "      <td>1.000000</td>\n",
       "      <td>22</td>\n",
       "      <td>0</td>\n",
       "      <td>-1.000000</td>\n",
       "      <td>-1.0</td>\n",
       "      <td>-1.0</td>\n",
       "      <td>-1.0</td>\n",
       "      <td>-1.0</td>\n",
       "      <td>Benign</td>\n",
       "      <td>Benign</td>\n",
       "      <td>0</td>\n",
       "      <td>0</td>\n",
       "      <td>0</td>\n",
       "      <td>0</td>\n",
       "    </tr>\n",
       "    <tr>\n",
       "      <th>4</th>\n",
       "      <td>-0.408248</td>\n",
       "      <td>1</td>\n",
       "      <td>2</td>\n",
       "      <td>1</td>\n",
       "      <td>2</td>\n",
       "      <td>1</td>\n",
       "      <td>-0.611775</td>\n",
       "      <td>0</td>\n",
       "      <td>0.577350</td>\n",
       "      <td>28</td>\n",
       "      <td>5</td>\n",
       "      <td>0.408248</td>\n",
       "      <td>-1.0</td>\n",
       "      <td>-1.0</td>\n",
       "      <td>-1.0</td>\n",
       "      <td>-1.0</td>\n",
       "      <td>Benign</td>\n",
       "      <td>Benign</td>\n",
       "      <td>0</td>\n",
       "      <td>0</td>\n",
       "      <td>0</td>\n",
       "      <td>0</td>\n",
       "    </tr>\n",
       "  </tbody>\n",
       "</table>\n",
       "</div>"
      ],
      "text/plain": [
       "   request.headers.User-Agent  request.headers.Accept-Encoding  \\\n",
       "0                    0.666667                                1   \n",
       "1                    0.774597                                1   \n",
       "2                   -0.755929                              181   \n",
       "3                    0.000000                              637   \n",
       "4                   -0.408248                                1   \n",
       "\n",
       "   request.headers.Accept-Language  request.headers.Sec-Fetch-Site  \\\n",
       "0                                2                               1   \n",
       "1                                4                               1   \n",
       "2                                4                               1   \n",
       "3                                4                               1   \n",
       "4                                2                               1   \n",
       "\n",
       "   request.headers.Sec-Fetch-Mode  request.headers.Sec-Fetch-Dest  \\\n",
       "0                               1                               1   \n",
       "1                               2                               1   \n",
       "2                               1                               1   \n",
       "3                               2                               1   \n",
       "4                               2                               1   \n",
       "\n",
       "   request.headers.Set-Cookie  request.method  request.url  \\\n",
       "0                   -0.127000               0     0.000000   \n",
       "1                   -0.833333               0     0.000000   \n",
       "2                   -0.755929               0     0.333333   \n",
       "3                   -0.766965               0     1.000000   \n",
       "4                   -0.611775               0     0.577350   \n",
       "\n",
       "  response.headers.Content-Length  response.status_code  response.body  \\\n",
       "0                               8                     0       0.000000   \n",
       "1                              31                     5       0.000000   \n",
       "2                              26                     4      -0.577350   \n",
       "3                              22                     0      -1.000000   \n",
       "4                              28                     5       0.408248   \n",
       "\n",
       "   response.headers.Location  request.headers.Cookie  \\\n",
       "0                       -1.0                    -1.0   \n",
       "1                       -1.0                    -1.0   \n",
       "2                       -1.0                    -1.0   \n",
       "3                       -1.0                    -1.0   \n",
       "4                       -1.0                    -1.0   \n",
       "\n",
       "   request.headers.Content-Length  request.headers.Upgrade-Insecure-Requests  \\\n",
       "0                            -1.0                                       -1.0   \n",
       "1                            -1.0                                       -1.0   \n",
       "2                            -1.0                                       -1.0   \n",
       "3                            -1.0                                       -1.0   \n",
       "4                            -1.0                                       -1.0   \n",
       "\n",
       "  attack_type    label  log4j_tag  si_tag  dt_tag  xss_tag  \n",
       "0      Benign   Benign          0       0       0        0  \n",
       "1      Benign   Benign          0       0       0        0  \n",
       "2       LOG4J  Malware          1       0       0        0  \n",
       "3      Benign   Benign          0       0       0        0  \n",
       "4      Benign   Benign          0       0       0        0  "
      ]
     },
     "execution_count": 14,
     "metadata": {},
     "output_type": "execute_result"
    }
   ],
   "source": [
    "def vectorize_df(df):\n",
    "    # scaling acording to mean ans std\n",
    "    le = LabelEncoder()\n",
    "    \n",
    "    h_vec = HashingVectorizer(n_features=4)\n",
    "\n",
    "#     Run LabelEncoder on the chosen features\n",
    "    for column in SIMPLE_HEADERS: \n",
    "        # change the text to groups\n",
    "        df[column] = le.fit_transform(df[column])\n",
    "    \n",
    "    # Run HashingVectorizer on the chosen features\n",
    "    for column in COMPLEX_HEADERS:\n",
    "        print(column)\n",
    "        newHVec = h_vec.fit_transform(df[column])\n",
    "        df[column] = newHVec.todense()\n",
    "\n",
    "    # Remove some columns that may be needed.. (Or not, you decide)\n",
    "    for column in COLUMNS_TO_REMOVE: \n",
    "        df.drop(column, axis=1, inplace=True)\n",
    "    return df\n",
    "\n",
    "df = vectorize_df(df)\n",
    "df.head()\n"
   ]
  },
  {
   "cell_type": "code",
   "execution_count": 15,
   "id": "c6ebb831",
   "metadata": {},
   "outputs": [
    {
     "name": "stdout",
     "output_type": "stream",
     "text": [
      "<class 'pandas.core.frame.DataFrame'>\n",
      "RangeIndex: 182767 entries, 0 to 182766\n",
      "Data columns (total 22 columns):\n",
      " #   Column                                     Non-Null Count   Dtype  \n",
      "---  ------                                     --------------   -----  \n",
      " 0   request.headers.User-Agent                 182767 non-null  float64\n",
      " 1   request.headers.Accept-Encoding            182767 non-null  int64  \n",
      " 2   request.headers.Accept-Language            182767 non-null  int64  \n",
      " 3   request.headers.Sec-Fetch-Site             182767 non-null  int64  \n",
      " 4   request.headers.Sec-Fetch-Mode             182767 non-null  int64  \n",
      " 5   request.headers.Sec-Fetch-Dest             182767 non-null  int64  \n",
      " 6   request.headers.Set-Cookie                 182767 non-null  float64\n",
      " 7   request.method                             182767 non-null  int64  \n",
      " 8   request.url                                182767 non-null  float64\n",
      " 9   response.headers.Content-Length            182767 non-null  object \n",
      " 10  response.status_code                       182767 non-null  int64  \n",
      " 11  response.body                              182767 non-null  float64\n",
      " 12  response.headers.Location                  182767 non-null  float64\n",
      " 13  request.headers.Cookie                     182767 non-null  float64\n",
      " 14  request.headers.Content-Length             182767 non-null  float64\n",
      " 15  request.headers.Upgrade-Insecure-Requests  182767 non-null  float64\n",
      " 16  attack_type                                182767 non-null  object \n",
      " 17  label                                      182767 non-null  object \n",
      " 18  log4j_tag                                  182767 non-null  int64  \n",
      " 19  si_tag                                     182767 non-null  int64  \n",
      " 20  dt_tag                                     182767 non-null  int64  \n",
      " 21  xss_tag                                    182767 non-null  int64  \n",
      "dtypes: float64(8), int64(11), object(3)\n",
      "memory usage: 59.0 MB\n"
     ]
    }
   ],
   "source": [
    "df.info(memory_usage=\"deep\")"
   ]
  },
  {
   "cell_type": "code",
   "execution_count": 16,
   "id": "1c98584b",
   "metadata": {},
   "outputs": [
    {
     "name": "stdout",
     "output_type": "stream",
     "text": [
      "20\n"
     ]
    }
   ],
   "source": [
    "features_list = df.columns.to_list()\n",
    "features_list.remove('label')\n",
    "features_list.remove('attack_type')\n",
    "print(len(features_list))"
   ]
  },
  {
   "cell_type": "code",
   "execution_count": 17,
   "id": "cee533bc",
   "metadata": {},
   "outputs": [
    {
     "name": "stdout",
     "output_type": "stream",
     "text": [
      "(146213, 20) (146213,)\n",
      "(36554, 20) (36554,)\n"
     ]
    },
    {
     "data": {
      "text/plain": [
       "Counter({'Benign': 143297, 'Malware': 39470})"
      ]
     },
     "execution_count": 17,
     "metadata": {},
     "output_type": "execute_result"
    }
   ],
   "source": [
    "# We convert the feature list to a numpy array, this is required for the model fitting\n",
    "X = df[features_list].to_numpy()\n",
    "\n",
    "# This column is the desired prediction we will train our model on\n",
    "y = np.stack(df[test_type])\n",
    "\n",
    "# We split the dataset to train and test according to the required ration\n",
    "# Do not change the test_size -> you can change anything else\n",
    "X_train, X_test, y_train, y_test = train_test_split(X, y, test_size=0.20, random_state=42, stratify=y)\n",
    "\n",
    "# We print the resulted datasets and count the difference \n",
    "print(X_train.shape, y_train.shape)\n",
    "print(X_test.shape, y_test.shape)\n",
    "counter = Counter(y)\n",
    "counter"
   ]
  },
  {
   "cell_type": "code",
   "execution_count": 18,
   "id": "0b43b634",
   "metadata": {},
   "outputs": [
    {
     "name": "stdout",
     "output_type": "stream",
     "text": [
      "[('Benign', 114637), ('Malware', 31576)]\n"
     ]
    }
   ],
   "source": [
    "# We choose our model of choice and set it's hyper parameters you can change anything\n",
    "clf = RandomForestClassifier(n_estimators=170)\n",
    "\n",
    "# Train Model\n",
    "clf.fit(X_train, y_train)\n",
    "\n",
    "# Check data balance and variety\n",
    "print(sorted(Counter(y_train).items()))"
   ]
  },
  {
   "cell_type": "code",
   "execution_count": 19,
   "id": "2fb86b74",
   "metadata": {},
   "outputs": [
    {
     "name": "stdout",
     "output_type": "stream",
     "text": [
      "              precision    recall  f1-score   support\n",
      "\n",
      "      Benign    1.00000   1.00000   1.00000     28660\n",
      "     Malware    1.00000   1.00000   1.00000      7894\n",
      "\n",
      "    accuracy                        1.00000     36554\n",
      "   macro avg    1.00000   1.00000   1.00000     36554\n",
      "weighted avg    1.00000   1.00000   1.00000     36554\n",
      "\n"
     ]
    },
    {
     "data": {
      "image/png": "[encoded data removed]",
      "text/plain": [
       "<Figure size 1500x800 with 2 Axes>"
      ]
     },
     "metadata": {},
     "output_type": "display_data"
    }
   ],
   "source": [
    "# We print our results\n",
    "sns.set(rc={'figure.figsize':(15,8)})\n",
    "predictions = clf.predict(X_test)\n",
    "true_labels = y_test\n",
    "cf_matrix = confusion_matrix(true_labels, predictions)\n",
    "clf_report = classification_report(true_labels, predictions, digits=5)\n",
    "heatmap = sns.heatmap(cf_matrix, annot=True, cmap='Blues', fmt='g', \n",
    "                      xticklabels=np.unique(true_labels), \n",
    "                      yticklabels=np.unique(true_labels)) \n",
    "\n",
    "# The heatmap is cool but this is the most important result\n",
    "print(clf_report)"
   ]
  },
  {
   "cell_type": "code",
   "execution_count": 20,
   "id": "7495f78f",
   "metadata": {},
   "outputs": [],
   "source": [
    "\n",
    "\n",
    "# Now it's your turn, use the model you have just created :)\n",
    "\n",
    "# Read the valuation json, preprocess it and run your model \n",
    "with open(f'./dataset_{str(dataset_number)}_val.json') as file:\n",
    "    raw_ds = json.load(file)\n",
    "test_df = pd.json_normalize(raw_ds, max_level=2)\n"
   ]
  },
  {
   "cell_type": "code",
   "execution_count": 21,
   "id": "05b266d2",
   "metadata": {},
   "outputs": [],
   "source": [
    "\n",
    "for column in test_df.columns[test_df.isna().any()].tolist():\n",
    "    # df.drop(column, axis=1, inplace=True)\n",
    "    test_df[column] = test_df[column].fillna('None')\n"
   ]
  },
  {
   "cell_type": "code",
   "execution_count": 22,
   "id": "a2512a62",
   "metadata": {},
   "outputs": [],
   "source": [
    "#we check if one of the columns contian script\n",
    "# def tag_contain_log4j2(row):\n",
    "#     for colum in test_df.columns:\n",
    "#         if isinstance(row[colum], str):\n",
    "#             if '${' in row[colum]:\n",
    "#                 return 1\n",
    "#     return 0\n",
    "\n",
    "test_df['log4j_tag'] = test_df.apply(lambda row: tag_contain_log4j(row), axis=1)"
   ]
  },
  {
   "cell_type": "code",
   "execution_count": 23,
   "id": "456c7380",
   "metadata": {},
   "outputs": [],
   "source": [
    "#we chack that one of the columns not contain sql injection // request url\n",
    "# def tag_contain_si2(row):\n",
    "#     for colum in test_df.columns:\n",
    "#         if isinstance(row[colum], str) and colum != 'request.headers.Set-Cookie':\n",
    "#             if '%20' in row[colum]:\n",
    "#                 return 1\n",
    "#     return 0\n",
    "\n",
    "test_df['si_tag'] = test_df.apply(lambda row: tag_contain_si(row), axis=1)"
   ]
  },
  {
   "cell_type": "code",
   "execution_count": 24,
   "id": "8993251e",
   "metadata": {},
   "outputs": [],
   "source": [
    "#we chack that one of the columns not contain Directory Traversal // request url\n",
    "# def tag_contain_dt2(row):\n",
    "#     for colum in test_df.columns:\n",
    "#         if isinstance(row[colum], str):\n",
    "#             if '/..' in row[colum]:\n",
    "#                 return 1\n",
    "#     return 0\n",
    "\n",
    "test_df['dt_tag'] = test_df.apply(lambda row: tag_contain_dt(row), axis=1)"
   ]
  },
  {
   "cell_type": "code",
   "execution_count": 25,
   "id": "af25e9cf",
   "metadata": {},
   "outputs": [],
   "source": [
    "#we chack that one of the columns not contain xss // request url\n",
    "def tag_contain_xss2(row):\n",
    "    for colum in test_df.columns:\n",
    "        if isinstance(row[colum], str):\n",
    "            if '/forum' in row[colum]:\n",
    "                return 1\n",
    "    return 0\n",
    "\n",
    "test_df['xss_tag'] = test_df.apply(lambda row: tag_contain_xss2(row), axis=1)"
   ]
  },
  {
   "cell_type": "code",
   "execution_count": 26,
   "id": "7f255ff2",
   "metadata": {},
   "outputs": [
    {
     "name": "stdout",
     "output_type": "stream",
     "text": [
      "request.headers.User-Agent\n",
      "request.headers.Set-Cookie\n",
      "request.url\n",
      "response.body\n",
      "response.headers.Location\n",
      "request.headers.Content-Length\n",
      "request.headers.Cookie\n",
      "request.headers.Upgrade-Insecure-Requests\n"
     ]
    }
   ],
   "source": [
    "# Preprocess the validation dataset, remember that here you don't have the labels\n",
    "test_df = vectorize_df(test_df)\n",
    "\n",
    "# Predict with your model\n",
    "X = test_df[features_list].to_numpy()\n",
    "predictions = clf.predict(X)\n"
   ]
  },
  {
   "cell_type": "code",
   "execution_count": 27,
   "id": "3e605d3a",
   "metadata": {},
   "outputs": [],
   "source": [
    "enc = LabelEncoder()\n",
    "np.savetxt(f'./dataset_{str(dataset_number)}_{test_type}_result.txt', enc.fit_transform(predictions), fmt='%2d')"
   ]
  },
  {
   "cell_type": "code",
   "execution_count": null,
   "id": "06f18ba8",
   "metadata": {},
   "outputs": [],
   "source": []
  }
 ],
 "metadata": {
  "kernelspec": {
   "display_name": "Python 3 (ipykernel)",
   "language": "python",
   "name": "python3"
  },
  "language_info": {
   "codemirror_mode": {
    "name": "ipython",
    "version": 3
   },
   "file_extension": ".py",
   "mimetype": "text/x-python",
   "name": "python",
   "nbconvert_exporter": "python",
   "pygments_lexer": "ipython3",
   "version": "3.9.13"
  }
 },
 "nbformat": 4,
 "nbformat_minor": 5
}
