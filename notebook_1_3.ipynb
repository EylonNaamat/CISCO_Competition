{
 "cells": [
  {
   "cell_type": "code",
   "execution_count": 1,
   "id": "2f3ad97a",
   "metadata": {},
   "outputs": [],
   "source": [
    "# Imports, settings and first dataset view\n",
    "import pandas as pd\n",
    "import seaborn as sns\n",
    "import numpy as np\n",
    "import json"
   ]
  },
  {
   "cell_type": "code",
   "execution_count": 2,
   "id": "2b7d43ba",
   "metadata": {},
   "outputs": [],
   "source": [
    "from sklearn.feature_extraction.text import CountVectorizer, HashingVectorizer\n",
    "from sklearn.preprocessing import LabelEncoder\n",
    "from sklearn.model_selection import train_test_split\n",
    "from sklearn.ensemble import RandomForestClassifier\n",
    "from sklearn.metrics import confusion_matrix, classification_report\n",
    "from collections import Counter"
   ]
  },
  {
   "cell_type": "code",
   "execution_count": 3,
   "id": "9834449d",
   "metadata": {},
   "outputs": [],
   "source": [
    "pd.set_option('display.max_columns', None)"
   ]
  },
  {
   "cell_type": "code",
   "execution_count": 4,
   "id": "45f56929",
   "metadata": {},
   "outputs": [],
   "source": [
    "dataset_number = 3 #thedataset\n",
    "test_type = 'label' #label ar attack_type"
   ]
  },
  {
   "cell_type": "code",
   "execution_count": 5,
   "id": "62f48649",
   "metadata": {},
   "outputs": [
    {
     "data": {
      "text/plain": [
       "(144500, 25)"
      ]
     },
     "execution_count": 5,
     "metadata": {},
     "output_type": "execute_result"
    }
   ],
   "source": [
    "#read file\n",
    "with open(f'./dataset_{str(dataset_number)}_train.json') as file:\n",
    "    raw_ds = json.load(file)\n",
    "df = pd.json_normalize(raw_ds, max_level=2)\n",
    "df.shape"
   ]
  },
  {
   "cell_type": "code",
   "execution_count": 6,
   "id": "fa1b943b",
   "metadata": {},
   "outputs": [],
   "source": [
    "#tab label and attack_type\n",
    "df['request.Attack_Tag'] = df['request.Attack_Tag'].fillna('Benign')\n",
    "df['attack_type'] = df['request.Attack_Tag']\n",
    "\n",
    "def categorize(row):  \n",
    "    if row['request.Attack_Tag'] == 'Benign':\n",
    "        return 'Benign'\n",
    "    return 'Malware'\n",
    "\n",
    "df['label'] = df.apply(lambda row: categorize(row), axis=1)"
   ]
  },
  {
   "cell_type": "code",
   "execution_count": 7,
   "id": "44fb7970",
   "metadata": {},
   "outputs": [],
   "source": [
    "#we check if one of the columns contian script\n",
    "def tag_contain_log4j(row):\n",
    "    check_colum = ['request.headers.Accept-Encoding',\n",
    " 'request.headers.Sec-Fetch-Dest',\n",
    " 'request.headers.Sec-Fetch-Site',\n",
    " 'request.headers.Set-Cookie']\n",
    "    for colum in check_colum:\n",
    "        if isinstance(row[colum], str):\n",
    "            if '${' in row[colum] and '}' in row[colum]:\n",
    "                return 1\n",
    "    return 0\n",
    "\n",
    "df['log4j_tag'] = df.apply(lambda row: tag_contain_log4j(row), axis=1)"
   ]
  },
  {
   "cell_type": "code",
   "execution_count": 8,
   "id": "c655c8ce",
   "metadata": {},
   "outputs": [],
   "source": [
    "#we chack that one of the columns not contain sql injection // request url\n",
    "def tag_contain_si(row):\n",
    "    if '%20' in row['request.url']:\n",
    "        return 1\n",
    "    return 0\n",
    "\n",
    "df['si_tag'] = df.apply(lambda row: tag_contain_si(row), axis=1)"
   ]
  },
  {
   "cell_type": "code",
   "execution_count": 9,
   "id": "52b19244",
   "metadata": {},
   "outputs": [],
   "source": [
    "#we chack that one of the columns not contain Directory Traversal // request url\n",
    "def tag_contain_dt(row):\n",
    "    check_colum = ['request.url','request.headers.Set-Cookie']\n",
    "    for colum in check_colum:\n",
    "        if isinstance(row[colum], str):\n",
    "            if '/..' in row['request.url']:\n",
    "                return 1\n",
    "    return 0\n",
    "\n",
    "df['dt_tag'] = df.apply(lambda row: tag_contain_dt(row), axis=1)"
   ]
  },
  {
   "cell_type": "code",
   "execution_count": 10,
   "id": "b4b336bc",
   "metadata": {},
   "outputs": [],
   "source": [
    "#we chack that one of the columns not contain xss // request url\n",
    "def tag_contain_xss(row):\n",
    "    check_colum = ['request.url']\n",
    "    for colum in check_colum:\n",
    "        if isinstance(row[colum], str):\n",
    "            if '/forum' in row[colum]:\n",
    "                return 1\n",
    "    return 0\n",
    "\n",
    "df['xss_tag'] = df.apply(lambda row: tag_contain_xss(row), axis=1)"
   ]
  },
  {
   "cell_type": "code",
   "execution_count": 11,
   "id": "90fea58e",
   "metadata": {},
   "outputs": [],
   "source": [
    "#drop attack tag\n",
    "df.drop('request.Attack_Tag', axis=1, inplace=True)"
   ]
  },
  {
   "cell_type": "code",
   "execution_count": 12,
   "id": "999eb7ca",
   "metadata": {},
   "outputs": [],
   "source": [
    "# fill none\n",
    "for column in df.columns[df.isna().any()].tolist():\n",
    "    # df.drop(column, axis=1, inplace=True)\n",
    "    df[column] = df[column].fillna('None')"
   ]
  },
  {
   "cell_type": "code",
   "execution_count": 13,
   "id": "4d1e2f47",
   "metadata": {},
   "outputs": [],
   "source": [
    "SIMPLE_HEADERS = ['request.headers.Accept-Encoding',\n",
    "                 'request.method',\n",
    "                 'request.headers.Sec-Fetch-Site',\n",
    "                 'response.status_code',\n",
    "                  'response.headers.Location',\n",
    "                  'request.headers.Content-Length'\n",
    "                ]\n",
    "\n",
    "\n",
    "COMPLEX_HEADERS = [\n",
    "                    'request.headers.Set-Cookie',\n",
    "                    'request.url',\n",
    "                    'response.body',\n",
    "                    'response.headers.Content-Length',\n",
    "                    'request.headers.Cookie'\n",
    "                    ]\n",
    "\n",
    "\n",
    "COLUMNS_TO_REMOVE = [ \n",
    "                    'request.headers.User-Agent',\n",
    "                    'request.headers.Sec-Fetch-Dest',\n",
    "                    'response.headers.Set-Cookie',\n",
    "                    'request.headers.Host',\n",
    "                    'request.headers.Accept',\n",
    "                    'request.headers.Connection',\n",
    "                    'request.headers.Accept-Language',\n",
    "                    'request.headers.Sec-Fetch-Mode',\n",
    "                    'request.headers.Sec-Fetch-User',\n",
    "                    'request.headers.Date',\n",
    "                    'request.body',\n",
    "                    'response.status',\n",
    "                    'response.headers.Content-Type'\n",
    "                    ]"
   ]
  },
  {
   "cell_type": "code",
   "execution_count": 14,
   "id": "4091fe65",
   "metadata": {},
   "outputs": [
    {
     "name": "stdout",
     "output_type": "stream",
     "text": [
      "request.headers.Set-Cookie\n",
      "request.url\n",
      "response.body\n",
      "response.headers.Content-Length\n",
      "request.headers.Cookie\n"
     ]
    },
    {
     "data": {
      "text/html": [
       "<div>\n",
       "<style scoped>\n",
       "    .dataframe tbody tr th:only-of-type {\n",
       "        vertical-align: middle;\n",
       "    }\n",
       "\n",
       "    .dataframe tbody tr th {\n",
       "        vertical-align: top;\n",
       "    }\n",
       "\n",
       "    .dataframe thead th {\n",
       "        text-align: right;\n",
       "    }\n",
       "</style>\n",
       "<table border=\"1\" class=\"dataframe\">\n",
       "  <thead>\n",
       "    <tr style=\"text-align: right;\">\n",
       "      <th></th>\n",
       "      <th>request.headers.Accept-Encoding</th>\n",
       "      <th>request.headers.Sec-Fetch-Site</th>\n",
       "      <th>request.headers.Set-Cookie</th>\n",
       "      <th>request.method</th>\n",
       "      <th>request.url</th>\n",
       "      <th>response.headers.Content-Length</th>\n",
       "      <th>response.status_code</th>\n",
       "      <th>response.body</th>\n",
       "      <th>request.headers.Content-Length</th>\n",
       "      <th>response.headers.Location</th>\n",
       "      <th>request.headers.Cookie</th>\n",
       "      <th>attack_type</th>\n",
       "      <th>label</th>\n",
       "      <th>log4j_tag</th>\n",
       "      <th>si_tag</th>\n",
       "      <th>dt_tag</th>\n",
       "      <th>xss_tag</th>\n",
       "    </tr>\n",
       "  </thead>\n",
       "  <tbody>\n",
       "    <tr>\n",
       "      <th>0</th>\n",
       "      <td>1</td>\n",
       "      <td>1</td>\n",
       "      <td>-0.898027</td>\n",
       "      <td>0</td>\n",
       "      <td>0.927173</td>\n",
       "      <td>0.0</td>\n",
       "      <td>0</td>\n",
       "      <td>-1.000000</td>\n",
       "      <td>14</td>\n",
       "      <td>2</td>\n",
       "      <td>-1.0</td>\n",
       "      <td>RCE</td>\n",
       "      <td>Malware</td>\n",
       "      <td>0</td>\n",
       "      <td>0</td>\n",
       "      <td>0</td>\n",
       "      <td>0</td>\n",
       "    </tr>\n",
       "    <tr>\n",
       "      <th>1</th>\n",
       "      <td>1</td>\n",
       "      <td>1</td>\n",
       "      <td>-0.777482</td>\n",
       "      <td>0</td>\n",
       "      <td>0.707107</td>\n",
       "      <td>-1.0</td>\n",
       "      <td>0</td>\n",
       "      <td>-1.000000</td>\n",
       "      <td>14</td>\n",
       "      <td>2</td>\n",
       "      <td>-1.0</td>\n",
       "      <td>Benign</td>\n",
       "      <td>Benign</td>\n",
       "      <td>0</td>\n",
       "      <td>0</td>\n",
       "      <td>0</td>\n",
       "      <td>0</td>\n",
       "    </tr>\n",
       "    <tr>\n",
       "      <th>2</th>\n",
       "      <td>1</td>\n",
       "      <td>1</td>\n",
       "      <td>-0.811107</td>\n",
       "      <td>0</td>\n",
       "      <td>0.707107</td>\n",
       "      <td>0.0</td>\n",
       "      <td>0</td>\n",
       "      <td>0.377964</td>\n",
       "      <td>14</td>\n",
       "      <td>2</td>\n",
       "      <td>-1.0</td>\n",
       "      <td>Benign</td>\n",
       "      <td>Benign</td>\n",
       "      <td>0</td>\n",
       "      <td>0</td>\n",
       "      <td>0</td>\n",
       "      <td>0</td>\n",
       "    </tr>\n",
       "    <tr>\n",
       "      <th>3</th>\n",
       "      <td>1</td>\n",
       "      <td>1</td>\n",
       "      <td>-0.635001</td>\n",
       "      <td>0</td>\n",
       "      <td>0.000000</td>\n",
       "      <td>-1.0</td>\n",
       "      <td>0</td>\n",
       "      <td>-0.255551</td>\n",
       "      <td>14</td>\n",
       "      <td>2</td>\n",
       "      <td>-1.0</td>\n",
       "      <td>Benign</td>\n",
       "      <td>Benign</td>\n",
       "      <td>0</td>\n",
       "      <td>0</td>\n",
       "      <td>0</td>\n",
       "      <td>0</td>\n",
       "    </tr>\n",
       "    <tr>\n",
       "      <th>4</th>\n",
       "      <td>1</td>\n",
       "      <td>1</td>\n",
       "      <td>-0.358569</td>\n",
       "      <td>0</td>\n",
       "      <td>0.316228</td>\n",
       "      <td>0.0</td>\n",
       "      <td>5</td>\n",
       "      <td>0.000000</td>\n",
       "      <td>14</td>\n",
       "      <td>2</td>\n",
       "      <td>-1.0</td>\n",
       "      <td>Benign</td>\n",
       "      <td>Benign</td>\n",
       "      <td>0</td>\n",
       "      <td>0</td>\n",
       "      <td>0</td>\n",
       "      <td>0</td>\n",
       "    </tr>\n",
       "  </tbody>\n",
       "</table>\n",
       "</div>"
      ],
      "text/plain": [
       "   request.headers.Accept-Encoding  request.headers.Sec-Fetch-Site  \\\n",
       "0                                1                               1   \n",
       "1                                1                               1   \n",
       "2                                1                               1   \n",
       "3                                1                               1   \n",
       "4                                1                               1   \n",
       "\n",
       "   request.headers.Set-Cookie  request.method  request.url  \\\n",
       "0                   -0.898027               0     0.927173   \n",
       "1                   -0.777482               0     0.707107   \n",
       "2                   -0.811107               0     0.707107   \n",
       "3                   -0.635001               0     0.000000   \n",
       "4                   -0.358569               0     0.316228   \n",
       "\n",
       "   response.headers.Content-Length  response.status_code  response.body  \\\n",
       "0                              0.0                     0      -1.000000   \n",
       "1                             -1.0                     0      -1.000000   \n",
       "2                              0.0                     0       0.377964   \n",
       "3                             -1.0                     0      -0.255551   \n",
       "4                              0.0                     5       0.000000   \n",
       "\n",
       "   request.headers.Content-Length  response.headers.Location  \\\n",
       "0                              14                          2   \n",
       "1                              14                          2   \n",
       "2                              14                          2   \n",
       "3                              14                          2   \n",
       "4                              14                          2   \n",
       "\n",
       "   request.headers.Cookie attack_type    label  log4j_tag  si_tag  dt_tag  \\\n",
       "0                    -1.0         RCE  Malware          0       0       0   \n",
       "1                    -1.0      Benign   Benign          0       0       0   \n",
       "2                    -1.0      Benign   Benign          0       0       0   \n",
       "3                    -1.0      Benign   Benign          0       0       0   \n",
       "4                    -1.0      Benign   Benign          0       0       0   \n",
       "\n",
       "   xss_tag  \n",
       "0        0  \n",
       "1        0  \n",
       "2        0  \n",
       "3        0  \n",
       "4        0  "
      ]
     },
     "execution_count": 14,
     "metadata": {},
     "output_type": "execute_result"
    }
   ],
   "source": [
    "def vectorize_df(df):\n",
    "    # scaling acording to mean ans std\n",
    "    le = LabelEncoder()\n",
    "    \n",
    "    h_vec = HashingVectorizer(n_features=4)\n",
    "\n",
    "#     Run LabelEncoder on the chosen features\n",
    "    for column in SIMPLE_HEADERS: \n",
    "        # change the text to groups\n",
    "        df[column] = le.fit_transform(df[column])\n",
    "    \n",
    "    # Run HashingVectorizer on the chosen features\n",
    "    for column in COMPLEX_HEADERS:\n",
    "        print(column)\n",
    "        newHVec = h_vec.fit_transform(df[column])\n",
    "        df[column] = newHVec.todense()\n",
    "\n",
    "    # Remove some columns that may be needed.. (Or not, you decide)\n",
    "    for column in COLUMNS_TO_REMOVE: \n",
    "        df.drop(column, axis=1, inplace=True)\n",
    "    return df\n",
    "\n",
    "df = vectorize_df(df)\n",
    "df.head()\n"
   ]
  },
  {
   "cell_type": "code",
   "execution_count": 15,
   "id": "c6ebb831",
   "metadata": {},
   "outputs": [
    {
     "name": "stdout",
     "output_type": "stream",
     "text": [
      "<class 'pandas.core.frame.DataFrame'>\n",
      "RangeIndex: 144500 entries, 0 to 144499\n",
      "Data columns (total 17 columns):\n",
      " #   Column                           Non-Null Count   Dtype  \n",
      "---  ------                           --------------   -----  \n",
      " 0   request.headers.Accept-Encoding  144500 non-null  int64  \n",
      " 1   request.headers.Sec-Fetch-Site   144500 non-null  int64  \n",
      " 2   request.headers.Set-Cookie       144500 non-null  float64\n",
      " 3   request.method                   144500 non-null  int64  \n",
      " 4   request.url                      144500 non-null  float64\n",
      " 5   response.headers.Content-Length  144500 non-null  float64\n",
      " 6   response.status_code             144500 non-null  int64  \n",
      " 7   response.body                    144500 non-null  float64\n",
      " 8   request.headers.Content-Length   144500 non-null  int64  \n",
      " 9   response.headers.Location        144500 non-null  int64  \n",
      " 10  request.headers.Cookie           144500 non-null  float64\n",
      " 11  attack_type                      144500 non-null  object \n",
      " 12  label                            144500 non-null  object \n",
      " 13  log4j_tag                        144500 non-null  int64  \n",
      " 14  si_tag                           144500 non-null  int64  \n",
      " 15  dt_tag                           144500 non-null  int64  \n",
      " 16  xss_tag                          144500 non-null  int64  \n",
      "dtypes: float64(5), int64(10), object(2)\n",
      "memory usage: 34.0 MB\n"
     ]
    }
   ],
   "source": [
    "df.info(memory_usage=\"deep\")"
   ]
  },
  {
   "cell_type": "code",
   "execution_count": 16,
   "id": "1c98584b",
   "metadata": {},
   "outputs": [
    {
     "name": "stdout",
     "output_type": "stream",
     "text": [
      "15\n"
     ]
    }
   ],
   "source": [
    "features_list = df.columns.to_list()\n",
    "features_list.remove('label')\n",
    "features_list.remove('attack_type')\n",
    "print(len(features_list))"
   ]
  },
  {
   "cell_type": "code",
   "execution_count": 17,
   "id": "cee533bc",
   "metadata": {},
   "outputs": [
    {
     "name": "stdout",
     "output_type": "stream",
     "text": [
      "(115600, 15) (115600,)\n",
      "(28900, 15) (28900,)\n"
     ]
    },
    {
     "data": {
      "text/plain": [
       "Counter({'Malware': 16080, 'Benign': 128420})"
      ]
     },
     "execution_count": 17,
     "metadata": {},
     "output_type": "execute_result"
    }
   ],
   "source": [
    "# We convert the feature list to a numpy array, this is required for the model fitting\n",
    "X = df[features_list].to_numpy()\n",
    "\n",
    "# This column is the desired prediction we will train our model on\n",
    "y = np.stack(df[test_type])\n",
    "\n",
    "# We split the dataset to train and test according to the required ration\n",
    "# Do not change the test_size -> you can change anything else\n",
    "X_train, X_test, y_train, y_test = train_test_split(X, y, test_size=0.20, random_state=42, stratify=y)\n",
    "\n",
    "# We print the resulted datasets and count the difference \n",
    "print(X_train.shape, y_train.shape)\n",
    "print(X_test.shape, y_test.shape)\n",
    "counter = Counter(y)\n",
    "counter"
   ]
  },
  {
   "cell_type": "code",
   "execution_count": 18,
   "id": "0b43b634",
   "metadata": {},
   "outputs": [
    {
     "name": "stdout",
     "output_type": "stream",
     "text": [
      "[('Benign', 102736), ('Malware', 12864)]\n"
     ]
    }
   ],
   "source": [
    "# We choose our model of choice and set it's hyper parameters you can change anything\n",
    "clf = RandomForestClassifier(n_estimators=170)\n",
    "\n",
    "# Train Model\n",
    "clf.fit(X_train, y_train)\n",
    "\n",
    "# Check data balance and variety\n",
    "print(sorted(Counter(y_train).items()))"
   ]
  },
  {
   "cell_type": "code",
   "execution_count": 19,
   "id": "2fb86b74",
   "metadata": {},
   "outputs": [
    {
     "name": "stdout",
     "output_type": "stream",
     "text": [
      "              precision    recall  f1-score   support\n",
      "\n",
      "      Benign    1.00000   1.00000   1.00000     25684\n",
      "     Malware    1.00000   1.00000   1.00000      3216\n",
      "\n",
      "    accuracy                        1.00000     28900\n",
      "   macro avg    1.00000   1.00000   1.00000     28900\n",
      "weighted avg    1.00000   1.00000   1.00000     28900\n",
      "\n"
     ]
    },
    {
     "data": {
      "image/png": "[encoded data removed]",
      "text/plain": [
       "<Figure size 1500x800 with 2 Axes>"
      ]
     },
     "metadata": {},
     "output_type": "display_data"
    }
   ],
   "source": [
    "# We print our results\n",
    "sns.set(rc={'figure.figsize':(15,8)})\n",
    "predictions = clf.predict(X_test)\n",
    "true_labels = y_test\n",
    "cf_matrix = confusion_matrix(true_labels, predictions)\n",
    "clf_report = classification_report(true_labels, predictions, digits=5)\n",
    "heatmap = sns.heatmap(cf_matrix, annot=True, cmap='Blues', fmt='g', \n",
    "                      xticklabels=np.unique(true_labels), \n",
    "                      yticklabels=np.unique(true_labels)) \n",
    "\n",
    "# The heatmap is cool but this is the most important result\n",
    "print(clf_report)"
   ]
  },
  {
   "cell_type": "code",
   "execution_count": 20,
   "id": "7495f78f",
   "metadata": {},
   "outputs": [],
   "source": [
    "\n",
    "\n",
    "# Now it's your turn, use the model you have just created :)\n",
    "\n",
    "# Read the valuation json, preprocess it and run your model \n",
    "with open(f'./dataset_{str(dataset_number)}_val.json') as file:\n",
    "    raw_ds = json.load(file)\n",
    "test_df = pd.json_normalize(raw_ds, max_level=2)\n",
    "\n"
   ]
  },
  {
   "cell_type": "code",
   "execution_count": 21,
   "id": "1389077b",
   "metadata": {},
   "outputs": [],
   "source": [
    "for column in test_df.columns[test_df.isna().any()].tolist():\n",
    "    # df.drop(column, axis=1, inplace=True)\n",
    "    test_df[column] = test_df[column].fillna('None')\n",
    "    "
   ]
  },
  {
   "cell_type": "code",
   "execution_count": 22,
   "id": "6fe5b454",
   "metadata": {},
   "outputs": [],
   "source": [
    "#we check if one of the columns contian script\n",
    "test_df['log4j_tag'] = test_df.apply(lambda row: tag_contain_log4j(row), axis=1)\n",
    "\n",
    "#we chack that one of the columns not contain sql injection // request url\n",
    "test_df['si_tag'] = test_df.apply(lambda row: tag_contain_si(row), axis=1)\n",
    "\n",
    "#we chack that one of the columns not contain Directory Traversal // request url\n",
    "test_df['dt_tag'] = test_df.apply(lambda row: tag_contain_dt(row), axis=1)\n",
    "\n",
    "#we chack that one of the columns not contain xss // request url\n",
    "test_df['xss_tag'] = test_df.apply(lambda row: tag_contain_xss(row), axis=1)"
   ]
  },
  {
   "cell_type": "code",
   "execution_count": 23,
   "id": "d4638118",
   "metadata": {},
   "outputs": [
    {
     "name": "stdout",
     "output_type": "stream",
     "text": [
      "request.headers.Set-Cookie\n",
      "request.url\n",
      "response.body\n",
      "response.headers.Content-Length\n",
      "request.headers.Cookie\n"
     ]
    }
   ],
   "source": [
    "# Preprocess the validation dataset, remember that here you don't have the labels\n",
    "test_df = vectorize_df(test_df)\n",
    "\n",
    "# Predict with your model\n",
    "X = test_df[features_list].to_numpy()\n",
    "predictions = clf.predict(X)\n"
   ]
  },
  {
   "cell_type": "code",
   "execution_count": 24,
   "id": "3e605d3a",
   "metadata": {},
   "outputs": [],
   "source": [
    "enc = LabelEncoder()\n",
    "np.savetxt(f'./dataset_{str(dataset_number)}_{test_type}_result.txt', enc.fit_transform(predictions), fmt='%2d')"
   ]
  }
 ],
 "metadata": {
  "kernelspec": {
   "display_name": "Python 3 (ipykernel)",
   "language": "python",
   "name": "python3"
  },
  "language_info": {
   "codemirror_mode": {
    "name": "ipython",
    "version": 3
   },
   "file_extension": ".py",
   "mimetype": "text/x-python",
   "name": "python",
   "nbconvert_exporter": "python",
   "pygments_lexer": "ipython3",
   "version": "3.9.13"
  }
 },
 "nbformat": 4,
 "nbformat_minor": 5
}
